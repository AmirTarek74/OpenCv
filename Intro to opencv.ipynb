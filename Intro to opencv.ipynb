{
 "cells": [
  {
   "cell_type": "markdown",
   "id": "449a676c-47a9-4da1-b442-fc00cbf1c50b",
   "metadata": {},
   "source": [
    "# Introduction to OpenCv\r\n",
    "OpenCV, or Open Source Computer Vision Library, is a powerful open-source computer vision and machine learning software library. It provides a wide range of tools and algorithms for real-time image processing, object detection, face recognition, and more. Used extensively in research, academia, and industry, OpenCV offers support for multiple programming languages including C++, Python, and Java\n",
    "\n",
    "<img src='images/download.png' alt ='OpenCv logo' />."
   ]
  },
  {
   "cell_type": "code",
   "execution_count": 1,
   "id": "750b4296-1ea5-4aac-8ebd-7e2dc447dbcb",
   "metadata": {},
   "outputs": [],
   "source": [
    "#uncomment the following line for installation\n",
    "#pip install opencv-python"
   ]
  },
  {
   "cell_type": "code",
   "execution_count": 2,
   "id": "35fd02f6-66a7-4596-bb58-1e9eac4f2c3b",
   "metadata": {},
   "outputs": [],
   "source": [
    "#importing the library\n",
    "import cv2"
   ]
  },
  {
   "cell_type": "markdown",
   "id": "b092f320-b763-4ec5-8434-b0a9ca56a7d3",
   "metadata": {},
   "source": [
    "# Reading , Displaying and Saving images\n",
    "to read an image in opencv we use ``cv2.imread('image_path')`` it reads the image in the specified variable"
   ]
  },
  {
   "cell_type": "code",
   "execution_count": 3,
   "id": "667f1fe5-e648-4043-8492-7823b07c0274",
   "metadata": {},
   "outputs": [],
   "source": [
    "img_path = 'download.png'\n",
    "img = cv2.imread(img_path)"
   ]
  },
  {
   "cell_type": "markdown",
   "id": "21df927b-2a2b-4c51-9644-ae3e112bcf98",
   "metadata": {},
   "source": [
    "to disaply the image we use ``cv2.imshow('window name',image)`` "
   ]
  },
  {
   "cell_type": "code",
   "execution_count": 4,
   "id": "63d1f814-86fd-4956-8f07-e6c804baf1d5",
   "metadata": {},
   "outputs": [],
   "source": [
    "cv2.imshow('Logo',img)   #displaying the image \n",
    "cv2.waitKey(0)           #waithing period before closing the image, note: delay in melli seconds , if 1000 it mean 1ms and if it's 0 it means wait until any key pressed from keyboaed\n",
    "cv2.destroyAllWindows()  #close all openning windows after the waiting delay"
   ]
  },
  {
   "cell_type": "markdown",
   "id": "e7fbddd6-9a61-426e-9fff-fd063fd43726",
   "metadata": {},
   "source": [
    "to save an image we use ``cv2.imwrite('imgae_path',image)`` this function will save ``image`` in ``image_path``"
   ]
  },
  {
   "cell_type": "code",
   "execution_count": 5,
   "id": "050f7818-5d2a-4548-a2a3-82f2f9f6f9a9",
   "metadata": {},
   "outputs": [
    {
     "name": "stdout",
     "output_type": "stream",
     "text": [
      "The image is saved correctly as copy.png\n"
     ]
    }
   ],
   "source": [
    "img_path = 'copy.png'\n",
    "ret = cv2.imwrite(img_path,img)\n",
    "if ret:\n",
    "    print(f'The image is saved correctly as {img_path}')\n",
    "else:\n",
    "    print('Failed to save :(')"
   ]
  },
  {
   "cell_type": "markdown",
   "id": "38af30b2-3844-4c77-8641-a2c948799bd6",
   "metadata": {},
   "source": [
    "# Reading , Display and Saving videos"
   ]
  },
  {
   "cell_type": "markdown",
   "id": "373bb9a8-78a6-4291-857f-db755ccd3c76",
   "metadata": {},
   "source": [
    "you can read a video from a camera or saved video on your device using ``cv2.VideoCapture(path)`` if ``path`` is numerical value it represents a cam on you device , if it's a path to video it will read that video frame by frame either way"
   ]
  },
  {
   "cell_type": "code",
   "execution_count": 6,
   "id": "cab23b9d-a932-419f-b070-94da2cea810d",
   "metadata": {},
   "outputs": [],
   "source": [
    "cap = cv2.VideoCapture(0)      #capturing video from my webcam\n",
    "while cap.isOpened():          #checking there are frames to read\n",
    "    ret , frame = cap.read()   #capture the frame\n",
    "    cv2.imshow('Video',frame)  #display current frame\n",
    "    if cv2.waitKey(10) == ord('q'):   # if you pressed 'q' to close the video\n",
    "        break\n",
    "cap.release()                  #realse the video\n",
    "cv2.destroyAllWindows()        #close all openning windows"
   ]
  },
  {
   "cell_type": "markdown",
   "id": "aa425f58-8c86-4855-b803-474bfd827c12",
   "metadata": {},
   "source": [
    "if you wanted to display a video instead of capturing one from your cam , all you have to do is to specify video path into ``cv2.VideoCapture(path)`` like ``cap =cv2.VideoCapture('video.mp4')`` and the rest remains the same"
   ]
  },
  {
   "cell_type": "markdown",
   "id": "e7a9497c-11db-473d-b9f7-2518e81dbd70",
   "metadata": {},
   "source": [
    "to save a video we use ``cv2.VideoWriter(filename,fourcc,fbs,frame size)``"
   ]
  },
  {
   "cell_type": "code",
   "execution_count": 7,
   "id": "d1ddfd12-91cf-4482-8bcd-4dc0e046902e",
   "metadata": {},
   "outputs": [],
   "source": [
    "cap = cv2.VideoCapture(0)      #capturing video from my webcam\n",
    "fourcc = cv2.VideoWriter_fourcc(*'XVID') #4-character code of codec used to compress the frames\n",
    "fps = 30                    #number of frames per second\n",
    "frame_size = (480,480)      #frame size\n",
    "out = cv2.VideoWriter('test.avi',fourcc,fps,frame_size)\n",
    "while cap.isOpened():          #checking there are frames to read\n",
    "    ret , frame = cap.read()   #capture the frame\n",
    "    cv2.imshow('Video',frame)  #display current frame\n",
    "    out.write(frame)           #save the current frame\n",
    "    if cv2.waitKey(10) == ord('q'):   # if you pressed 'q' to close the video\n",
    "        break\n",
    "cap.release()                  #realse the video\n",
    "out.release()                  #realse saved file\n",
    "cv2.destroyAllWindows()        #close all openning windows"
   ]
  },
  {
   "cell_type": "markdown",
   "id": "f4e301c1-751c-4492-88de-5e654449bf4e",
   "metadata": {},
   "source": [
    "# Additional Resources\n",
    "[OpenCv docs](https://docs.opencv.org/4.9.0/d6/d00/tutorial_py_root.html)"
   ]
  },
  {
   "cell_type": "markdown",
   "id": "83a64461-ca0a-43f2-9e68-dee95c0908e3",
   "metadata": {},
   "source": [
    "# Author:\n",
    "##### Amir Tarek\n",
    "amir.tarek11@gmail.com"
   ]
  }
 ],
 "metadata": {
  "kernelspec": {
   "display_name": "Python 3 (ipykernel)",
   "language": "python",
   "name": "python3"
  },
  "language_info": {
   "codemirror_mode": {
    "name": "ipython",
    "version": 3
   },
   "file_extension": ".py",
   "mimetype": "text/x-python",
   "name": "python",
   "nbconvert_exporter": "python",
   "pygments_lexer": "ipython3",
   "version": "3.10.4"
  }
 },
 "nbformat": 4,
 "nbformat_minor": 5
}
